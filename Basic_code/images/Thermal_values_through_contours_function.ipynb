import cv2

# Function to preprocess image and get contours
def process_image(image):
    # Preprocess image (example: apply thresholding)
    _, thresh = cv2.threshold(image, 150, 255, cv2.THRESH_BINARY)
    
    # Find contours
    contours, _ = cv2.findContours(thresh, cv2.RETR_EXTERNAL, cv2.CHAIN_APPROX_SIMPLE)
    
    return contours

# Function to crop image based on contours
def crop_contours(image, contours):
    cropped_images = []
    for contour in contours:
        # Get bounding box of contour
        x, y, w, h = cv2.boundingRect(contour)
        
        # Crop image to bounding box
        cropped_image = image[y:y+h, x:x+w]
        
        # Add cropped image to list
        cropped_images.append(cropped_image)
    
    return cropped_images

# Load image
image = cv2.imread('thermal_image.jpg', cv2.IMREAD_GRAYSCALE)

# Preprocess image and find contours
contours = process_image(image)

# Crop image based on contours
cropped_images = crop_contours(image, contours)

# Process each cropped image (e.g., calculate thermal values)
for idx, cropped_image in enumerate(cropped_images):
    # Example: Calculate mean temperature of cropped image
    mean_temperature = cv2.mean(cropped_image)[0]
    print(f"Mean temperature of cropped image {idx + 1}: {mean_temperature}")

    # Optional: Display cropped image
    cv2.imshow(f'Cropped Image {idx + 1}', cropped_image)

# Wait for key press to close windows
cv2.waitKey(0)
cv2.destroyAllWindows()
